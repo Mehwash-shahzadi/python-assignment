{
 "cells": [
  {
   "cell_type": "markdown",
   "metadata": {},
   "source": [
    "#Assignment 2"
   ]
  },
  {
   "cell_type": "markdown",
   "metadata": {},
   "source": [
    "Question 03\n",
    "Write a program in which take two numbers from user by using built-in function and perform folllowing\n",
    " arithmetic operation\n",
    "\n",
    "Addition\n",
    "Subtraction\n",
    "Multiplication\n",
    "Division"
   ]
  },
  {
   "cell_type": "code",
   "execution_count": 2,
   "metadata": {},
   "outputs": [
    {
     "name": "stdout",
     "output_type": "stream",
     "text": [
      "Perform Arithmatic Operation\n",
      "Addition:8\n",
      "Subtraction:2\n",
      "Multiplication:15\n",
      "Division:1.6666666666666667\n"
     ]
    }
   ],
   "source": [
    "\n",
    "def operation(num1,num2):\n",
    "    return {\n",
    "        \"Addition\":num1+num2,\n",
    "        \"Subtraction\":num1-num2,\n",
    "        \"Multiplication\":num1*num2,\n",
    "        \"Division\":num1/num2\n",
    "    }\n",
    "num1=int(input(\"enter the num1:\"))\n",
    "num2=int(input(\"enter the num2:\"))\n",
    "print(\"Perform Arithmatic Operation\")\n",
    "result=operation(num1,num2)\n",
    "for operations,value in result.items():\n",
    "    print(f\"{operations}:{value}\")\n"
   ]
  },
  {
   "cell_type": "markdown",
   "metadata": {},
   "source": [
    "\"\"\"Question 04\n",
    "Write a program to calculate area of triangle by using following formula , in this program takes all input from \n",
    "user by using built-in function.\n",
    "\"\"\"\n"
   ]
  },
  {
   "cell_type": "code",
   "execution_count": 5,
   "metadata": {},
   "outputs": [
    {
     "name": "stdout",
     "output_type": "stream",
     "text": [
      "Invalid triangle sides.\n"
     ]
    }
   ],
   "source": [
    "import math\n",
    "def area_of_triangle(a,b,c):\n",
    "    s=(a+b+c)/3\n",
    "    if s>a and s>b and s>c:\n",
    "        return math.sqrt((s-a)*(s-b)*(s-c))\n",
    "    else:\n",
    "        raise ValueError(\"Invalid triangle sides.\")\n",
    "a=int(input(\"enter the value of a:\"))\n",
    "b=int(input(\"enter the value of b:\"))\n",
    "c=int(input(\"enter the value of c:\"))\n",
    "try:\n",
    "    output=area_of_triangle(a,b,c)\n",
    "    print(f\"area of triangle is:{output}\")\n",
    "except ValueError as e:\n",
    "    print(e)"
   ]
  },
  {
   "cell_type": "markdown",
   "metadata": {},
   "source": [
    "\"\"\"Question 05\n",
    "Write a program in which take two numbers from user and swap them.\"\"\"\n"
   ]
  },
  {
   "cell_type": "code",
   "execution_count": 7,
   "metadata": {},
   "outputs": [
    {
     "name": "stdout",
     "output_type": "stream",
     "text": [
      "After Swapping number\n",
      "first_number:8\n",
      "Second_number:6\n"
     ]
    }
   ],
   "source": [
    "number1=int(input(\"enter the number1:\"))\n",
    "number2=int(input(\"enter the number2:\"))\n",
    "number1,number2=number2,number1\n",
    "print(\"After Swapping number\")\n",
    "print(f\"first_number:{number1}\")\n",
    "print(f\"Second_number:{number2}\")"
   ]
  },
  {
   "cell_type": "markdown",
   "metadata": {},
   "source": [
    "\"\"\"Question 06\n",
    "Write a program that prompts the user to input a Celsius temperature and \n",
    "outputs the equivalent temperature in Fahrenheit. The formula to convert the temperature is:\"\"\""
   ]
  },
  {
   "cell_type": "code",
   "execution_count": 13,
   "metadata": {},
   "outputs": [
    {
     "name": "stdout",
     "output_type": "stream",
     "text": [
      "the 456 °C temperature is equal to:852.8000000000001°F\n"
     ]
    }
   ],
   "source": [
    "def cal_temperature(Celsius):\n",
    "    return ((9/5)*Celsius+32)\n",
    "Celsius=int(input(\"enter the temperature:\"))\n",
    "Fahrenhiet=cal_temperature(Celsius)\n",
    "print(f\"the {Celsius} °C temperature is equal to:{Fahrenhiet}°F\")"
   ]
  },
  {
   "cell_type": "markdown",
   "metadata": {},
   "source": [
    "\"\"\"Question 07 \n",
    "Write a program that accepts seconds from user as integer. Your program should converts seconds in hours, \n",
    "minutes and seconds.\"\"\""
   ]
  },
  {
   "cell_type": "code",
   "execution_count": 11,
   "metadata": {},
   "outputs": [
    {
     "name": "stdout",
     "output_type": "stream",
     "text": [
      "1Hour,1Minutes,2Seconds\n"
     ]
    }
   ],
   "source": [
    "total_seconds=int(input(\"enter the seconds:\"))\n",
    "hours=(total_seconds)//3600\n",
    "minutes=(total_seconds%3600)//60\n",
    "seconds=total_seconds%60\n",
    "print(f\"{hours}Hour,{minutes}Minutes,{seconds}Seconds\")"
   ]
  },
  {
   "cell_type": "markdown",
   "metadata": {},
   "source": [
    "question#8\n",
    "write a program which accept principle,rate and time from user and print the simple interest .\n",
    "formula             simple interest=(principle*rate*time)/100"
   ]
  },
  {
   "cell_type": "code",
   "execution_count": 16,
   "metadata": {},
   "outputs": [
    {
     "name": "stdout",
     "output_type": "stream",
     "text": [
      "simple interest is 200.0\n"
     ]
    }
   ],
   "source": [
    "def cal_interset(principle,rate,time):\n",
    "    return (principle*rate*time)/100\n",
    "principle=float(input(\"enter the principle:\"))\n",
    "rate=float(input(\"enter the rate (in %)\"))\n",
    "time=float(input(\"enter the time period(in years): \"))\n",
    "result=cal_interset(principle,rate,time)\n",
    "print(f\"simple interest is {result}\")"
   ]
  },
  {
   "cell_type": "markdown",
   "metadata": {},
   "source": [
    "Question 09. Distance Traveled\n",
    "Write a program to calculate the distance traveled by a car , assuming there are no accidents or delays, the distance\n",
    " that a car travels down the inter-state can be calculated with the following formula:\n",
    "\n",
    "             Distance=speed*time\n",
    "A car is traveling at 60 miles per hour. Write a program that displays the following:\n",
    "• The distance the car will travel in 5 hours\n",
    "• The distance the car will travel in 8 hours\n",
    "• The distance the car will travel in 12 hours"
   ]
  },
  {
   "cell_type": "code",
   "execution_count": 9,
   "metadata": {},
   "outputs": [
    {
     "name": "stdout",
     "output_type": "stream",
     "text": [
      "the distance the car will be travel in 5 hours=300\n",
      "the distance the car will be travel in 8 hours=480\n",
      "the distance the car will be travel in 12 hours=720\n"
     ]
    }
   ],
   "source": [
    "def cal_distance(speed,times):\n",
    "    return speed*times\n",
    "speed=60\n",
    "time=[5,8,12]\n",
    "for times in time:\n",
    "    result=cal_distance(speed,times)\n",
    "    print(f\"the distance the car will be travel in {times} hours={result}\")"
   ]
  },
  {
   "cell_type": "code",
   "execution_count": 18,
   "metadata": {},
   "outputs": [
    {
     "name": "stdout",
     "output_type": "stream",
     "text": [
      "the purchase amount per share = $32870.00\n",
      "commision paid foy buying the stock = $657.40\n",
      "the amount after sales= $33920.00\n",
      "commision paid on selling= $0.68\n",
      "profit = $391.92\n",
      "Joe made a profit\n"
     ]
    }
   ],
   "source": [
    "\"\"\"Question#10\"\"\"\n",
    "no_of_share=1000\n",
    "purchase_price_per_share=32.87\n",
    "sale_price_per_share=33.92\n",
    "commision_rate=0.02\n",
    "\n",
    "purchase_amount=no_of_share*purchase_price_per_share\n",
    "purchase_commision=purchase_amount*commision_rate\n",
    "total_purchase_cost=purchase_amount+purchase_commision\n",
    "sales_amount=no_of_share*sale_price_per_share\n",
    "sale_commision=sale_price_per_share*commision_rate\n",
    "profit=sales_amount-sale_commision-total_purchase_cost\n",
    "print(f\"the purchase amount per share = ${purchase_amount:.2f}\")\n",
    "print(f\"commision paid foy buying the stock = ${purchase_commision:.2f}\")\n",
    "print(f\"the amount after sales= ${sales_amount:.2f}\")\n",
    "print(f\"commision paid on selling= ${sale_commision:.2f}\")\n",
    "print(f\"profit = ${profit:.2f}\")\n",
    "if profit>0:\n",
    "    print(\"Joe made a profit\")\n",
    "else:\n",
    "    print(\"Loss\")"
   ]
  }
 ],
 "metadata": {
  "kernelspec": {
   "display_name": "Python 3",
   "language": "python",
   "name": "python3"
  },
  "language_info": {
   "codemirror_mode": {
    "name": "ipython",
    "version": 3
   },
   "file_extension": ".py",
   "mimetype": "text/x-python",
   "name": "python",
   "nbconvert_exporter": "python",
   "pygments_lexer": "ipython3",
   "version": "3.8.8"
  }
 },
 "nbformat": 4,
 "nbformat_minor": 2
}
