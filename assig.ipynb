{
 "cells": [
  {
   "cell_type": "markdown",
   "metadata": {},
   "source": [
    "#Assignment 1"
   ]
  },
  {
   "cell_type": "code",
   "execution_count": 26,
   "metadata": {},
   "outputs": [
    {
     "name": "stdout",
     "output_type": "stream",
     "text": [
      "3.8.8 (tags/v3.8.8:024d805, Feb 19 2021, 13:18:16) [MSC v.1928 64 bit (AMD64)]\n"
     ]
    }
   ],
   "source": [
    "#print the version the python which you are using.\n",
    "import sys\n",
    "print(sys.version)"
   ]
  },
  {
   "cell_type": "code",
   "execution_count": 27,
   "metadata": {},
   "outputs": [
    {
     "name": "stdout",
     "output_type": "stream",
     "text": [
      "1 2 3 4 5\n"
     ]
    }
   ],
   "source": [
    "# five variables in same line\n",
    "a,b,c,d,e=1,2,3,4,5\n",
    "print(a,b,c,d,e)"
   ]
  },
  {
   "cell_type": "code",
   "execution_count": 28,
   "metadata": {},
   "outputs": [
    {
     "name": "stdout",
     "output_type": "stream",
     "text": [
      "<class 'str'>\n",
      "2081421650800\n"
     ]
    }
   ],
   "source": [
    "#declare a variable ,check its type, and display its ID\n",
    "name=\"mehwash\"\n",
    "print(type(name))\n",
    "print(id(name))"
   ]
  },
  {
   "cell_type": "code",
   "execution_count": 29,
   "metadata": {},
   "outputs": [
    {
     "name": "stdout",
     "output_type": "stream",
     "text": [
      "sum is equal to:44\n"
     ]
    }
   ],
   "source": [
    "#write a program in python that uses variables to perform a sum equal t0 44.\n",
    "a=20\n",
    "b=24\n",
    "sum=a+b\n",
    "print(f\"sum is equal to:{sum}\")"
   ]
  },
  {
   "cell_type": "code",
   "execution_count": 30,
   "metadata": {},
   "outputs": [
    {
     "name": "stdout",
     "output_type": "stream",
     "text": [
      "78.53981633974483\n"
     ]
    }
   ],
   "source": [
    "#calculate the radius of circle.\n",
    "import math\n",
    "def cal_area(r):\n",
    "    return math.pi*(r)**2\n",
    "r=int(input(\"ener the radius:\"))\n",
    "output=cal_area(r)\n",
    "print(output)"
   ]
  },
  {
   "cell_type": "code",
   "execution_count": 31,
   "metadata": {},
   "outputs": [
    {
     "name": "stdout",
     "output_type": "stream",
     "text": [
      "Mehwash shahzadi\n"
     ]
    }
   ],
   "source": [
    "#print the user first name and last name.\n",
    "first_name=\"Mehwash\"\n",
    "last_name=\"shahzadi\"\n",
    "full_name=first_name+\" \"+last_name\n",
    "print(full_name)"
   ]
  },
  {
   "cell_type": "code",
   "execution_count": 32,
   "metadata": {},
   "outputs": [
    {
     "data": {
      "text/plain": [
       "'This statement is invalid because variable name start with letter,underscore and not start with number.'"
      ]
     },
     "execution_count": 32,
     "metadata": {},
     "output_type": "execute_result"
    }
   ],
   "source": [
    "#is the following assignment statement valid or invalid.if it is invalid ,why?72=amount\n",
    "\"\"\"This statement is invalid because variable name start with letter,underscore and not start with number.\"\"\""
   ]
  },
  {
   "cell_type": "code",
   "execution_count": 33,
   "metadata": {},
   "outputs": [
    {
     "data": {
      "text/plain": [
       "'variables name are the casesensitive.Sales and sales are not same these are two different variables'"
      ]
     },
     "execution_count": 33,
     "metadata": {},
     "output_type": "execute_result"
    }
   ],
   "source": [
    "#is the variable name is Sales the same as the sales?why or why not.\n",
    "\"\"\"variables name are the casesensitive.Sales and sales are not same these are two different variables\"\"\""
   ]
  },
  {
   "cell_type": "code",
   "execution_count": 34,
   "metadata": {},
   "outputs": [],
   "source": [
    "#what will be displayed by the followingmy_value=99 ,my_value=0 \n",
    "\"\"\"my_value=0 will be displayed because we reassign the value to my_value.\"\"\""
   ]
  },
  {
   "cell_type": "code",
   "execution_count": 23,
   "metadata": {},
   "outputs": [],
   "source": [
    "# write the python statement that assign the sum of 10 and 14 to the variable total.\n",
    "\"\"\"total=10+14\"\"\""
   ]
  },
  {
   "cell_type": "code",
   "execution_count": 24,
   "metadata": {},
   "outputs": [],
   "source": [
    "#write a python statement that subtract the variable down_payment from variable total and assign the result to the variable due.\n",
    "\"\"\"\"due=total-down_payment\"\"\""
   ]
  },
  {
   "cell_type": "code",
   "execution_count": 25,
   "metadata": {},
   "outputs": [],
   "source": [
    "#write a python statement that multiplies the variable subtotal by 0.15 and assign the result to the variable total.\n",
    "\"\"\"total=subtotal*0.15\"\"\""
   ]
  }
 ],
 "metadata": {
  "kernelspec": {
   "display_name": "Python 3",
   "language": "python",
   "name": "python3"
  },
  "language_info": {
   "codemirror_mode": {
    "name": "ipython",
    "version": 3
   },
   "file_extension": ".py",
   "mimetype": "text/x-python",
   "name": "python",
   "nbconvert_exporter": "python",
   "pygments_lexer": "ipython3",
   "version": "3.8.8"
  }
 },
 "nbformat": 4,
 "nbformat_minor": 2
}
