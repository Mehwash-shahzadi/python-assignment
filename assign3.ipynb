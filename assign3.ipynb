{
 "cells": [
  {
   "cell_type": "markdown",
   "metadata": {},
   "source": [
    "Question 01:\n",
    "What does the following code display?\n",
    "\n",
    "mystr = 'yes'\n",
    "mystr = mystr + 'no'\n",
    "mystr = mystr + 'yes'\n",
    "print(mystr)  \n",
    "\n",
    " output:mystr='yesnoyes'"
   ]
  },
  {
   "cell_type": "markdown",
   "metadata": {},
   "source": [
    "Question 02:\n",
    "Given the string mystring = \"Ehtisham Sadiq\":\n",
    "\n",
    "Write a slicing expression to display the first 3 characters in the string."
   ]
  },
  {
   "cell_type": "code",
   "execution_count": 6,
   "metadata": {},
   "outputs": [
    {
     "name": "stdout",
     "output_type": "stream",
     "text": [
      "first three character: Eht\n"
     ]
    }
   ],
   "source": [
    "mystring = \"Ehtisham Sadiq\"\n",
    "print(f'first three character: {mystring[:3]}')"
   ]
  },
  {
   "cell_type": "markdown",
   "metadata": {},
   "source": [
    "Question 03:\n",
    "Given the string mystring = \"Ehtisham Sadiq\":\n",
    "\n",
    "Write a slicing expression to display the last 3 characters in the string."
   ]
  },
  {
   "cell_type": "code",
   "execution_count": 8,
   "metadata": {},
   "outputs": [
    {
     "name": "stdout",
     "output_type": "stream",
     "text": [
      "last three character: diq\n",
      "last three character: diq\n"
     ]
    }
   ],
   "source": [
    "mystring = \"Ehtisham Sadiq\"\n",
    "print(f'last three character: {mystring[11:]}')\n",
    "#print(f'last three character: {mystring[-3:]}')"
   ]
  },
  {
   "cell_type": "markdown",
   "metadata": {},
   "source": [
    "Question 04:\n",
    "Given the following statement:\n",
    "\n",
    "mystring = 'cookies>milk>fudge>cake>ice cream'\n",
    "\n",
    "Write a Python statement that splits this string, creating the following list:\n",
    "\n",
    "['cookies', 'milk', 'fudge', 'cake', 'ice cream']"
   ]
  },
  {
   "cell_type": "code",
   "execution_count": 9,
   "metadata": {},
   "outputs": [
    {
     "name": "stdout",
     "output_type": "stream",
     "text": [
      "['cookies', 'milk', 'fudge', 'cake', 'ice cream']\n"
     ]
    }
   ],
   "source": [
    "mystring = 'cookies>milk>fudge>cake>ice cream'\n",
    "print(mystring.split('>'))"
   ]
  },
  {
   "cell_type": "markdown",
   "metadata": {},
   "source": [
    "Question 05:\n",
    "Sum of Digits in a String\n",
    "Write a program that asks the user to enter a series of single-digit numbers \n",
    "with nothing separating them. The program should display the sum of all the single digit numbers in the string.\n",
    "\n",
    "For example, if the user enters 2514, the method should return 12, which is the sum of 2, 5, 1, and 4."
   ]
  },
  {
   "cell_type": "code",
   "execution_count": 16,
   "metadata": {},
   "outputs": [
    {
     "name": "stdout",
     "output_type": "stream",
     "text": [
      "sum: 12\n"
     ]
    }
   ],
   "source": [
    "number=2514\n",
    "sum=0\n",
    "while number>0:\n",
    "    digit=number%10\n",
    "    sum+=digit\n",
    "    number//=10\n",
    "print(f'sum: {sum}')"
   ]
  },
  {
   "cell_type": "markdown",
   "metadata": {},
   "source": [
    "What are the values of the following expressions? In each line, assume that\n",
    "\n",
    "x = 2.5\n",
    "\n",
    "y = -1.5\n",
    "\n",
    "m = 18\n",
    "\n",
    "n = 4\n",
    "\n",
    "x+n.y-(x+n).y\n",
    "\n",
    "m/n+m%n\n",
    "\n",
    "5.x-n/5\n",
    "\n",
    "1-(1-(1-(1-(1-n))))\n",
    "\n",
    "(n)**0.25"
   ]
  },
  {
   "cell_type": "code",
   "execution_count": null,
   "metadata": {},
   "outputs": [],
   "source": []
  },
  {
   "cell_type": "markdown",
   "metadata": {},
   "source": [
    "Question 07:\n",
    "For the given expressions, with the following string assignments:\n",
    "\n",
    "s = \"Hello\"\n",
    "t = \"World\"\n",
    "\n",
    "a. Determine the value of len(s) + len(t). \n",
    "\n",
    "output:10\n",
    "\n",
    "b. Calculate the value of s[1] + s[2].\n",
    "\n",
    " output : 'er'\n",
    "\n",
    "c. Find the character at the index len(s) // 2 in the string s.\n",
    "\n",
    " output:2\n",
    "\n",
    "d. Concatenate the strings s and t.\n",
    "\n",
    " output:'HelloWorld'\n",
    "\n",
    "e. Concatenate the strings t and s. \n",
    "\n",
    "output:'WorldHello'\n",
    "\n",
    "f. Evaluate the result of s * 2. \n",
    "\n",
    "output:'HelloHello'\n",
    "\n",
    "Note: Each part of the question will provide specific results based on the provided values of s and t."
   ]
  },
  {
   "cell_type": "markdown",
   "metadata": {},
   "source": [
    "Question 08:\n",
    "Write a program that reads a number and displays the square, cube, and fourth power of the number.\n",
    "Use the ** operator only for calculating the fourth power.\n",
    "\n",
    "Test Case:\n",
    "For input number 2:\n",
    "\n",
    "Square: 2^2 = 4\n",
    "\n",
    "Cube: 2^3 = 8\n",
    "\n",
    "Fourth Power: 2^4 = 16"
   ]
  },
  {
   "cell_type": "code",
   "execution_count": 20,
   "metadata": {},
   "outputs": [
    {
     "name": "stdout",
     "output_type": "stream",
     "text": [
      "{'square': 4, 'cube': 6, 'forth_power': 4}\n"
     ]
    }
   ],
   "source": [
    "def power_of_numbe(number):\n",
    "    return {\n",
    "        'square':number*2,\n",
    "        'cube':number*3,\n",
    "        'forth_power':number**2\n",
    "    }\n",
    "number=int(input('enter the number:'))\n",
    "print(power_of_numbe(number))"
   ]
  }
 ],
 "metadata": {
  "kernelspec": {
   "display_name": "Python 3",
   "language": "python",
   "name": "python3"
  },
  "language_info": {
   "codemirror_mode": {
    "name": "ipython",
    "version": 3
   },
   "file_extension": ".py",
   "mimetype": "text/x-python",
   "name": "python",
   "nbconvert_exporter": "python",
   "pygments_lexer": "ipython3",
   "version": "3.8.8"
  }
 },
 "nbformat": 4,
 "nbformat_minor": 2
}
