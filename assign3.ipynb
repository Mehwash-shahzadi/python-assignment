{
 "cells": [
  {
   "cell_type": "markdown",
   "metadata": {},
   "source": [
    "Question 01:\n",
    "What does the following code display?\n",
    "\n",
    "mystr = 'yes'\n",
    "mystr = mystr + 'no'\n",
    "mystr = mystr + 'yes'\n",
    "print(mystr)  \n",
    "\n",
    " output:mystr='yesnoyes'"
   ]
  },
  {
   "cell_type": "markdown",
   "metadata": {},
   "source": [
    "Question 02:\n",
    "Given the string mystring = \"Ehtisham Sadiq\":\n",
    "\n",
    "Write a slicing expression to display the first 3 characters in the string."
   ]
  },
  {
   "cell_type": "code",
   "execution_count": 6,
   "metadata": {},
   "outputs": [
    {
     "name": "stdout",
     "output_type": "stream",
     "text": [
      "first three character: Eht\n"
     ]
    }
   ],
   "source": [
    "mystring = \"Ehtisham Sadiq\"\n",
    "print(f'first three character: {mystring[:3]}')"
   ]
  },
  {
   "cell_type": "markdown",
   "metadata": {},
   "source": [
    "Question 03:\n",
    "Given the string mystring = \"Ehtisham Sadiq\":\n",
    "\n",
    "Write a slicing expression to display the last 3 characters in the string."
   ]
  },
  {
   "cell_type": "code",
   "execution_count": 8,
   "metadata": {},
   "outputs": [
    {
     "name": "stdout",
     "output_type": "stream",
     "text": [
      "last three character: diq\n",
      "last three character: diq\n"
     ]
    }
   ],
   "source": [
    "mystring = \"Ehtisham Sadiq\"\n",
    "print(f'last three character: {mystring[11:]}')\n",
    "#print(f'last three character: {mystring[-3:]}')"
   ]
  },
  {
   "cell_type": "markdown",
   "metadata": {},
   "source": [
    "Question 04:\n",
    "Given the following statement:\n",
    "\n",
    "mystring = 'cookies>milk>fudge>cake>ice cream'\n",
    "\n",
    "Write a Python statement that splits this string, creating the following list:\n",
    "\n",
    "['cookies', 'milk', 'fudge', 'cake', 'ice cream']"
   ]
  },
  {
   "cell_type": "code",
   "execution_count": 9,
   "metadata": {},
   "outputs": [
    {
     "name": "stdout",
     "output_type": "stream",
     "text": [
      "['cookies', 'milk', 'fudge', 'cake', 'ice cream']\n"
     ]
    }
   ],
   "source": [
    "mystring = 'cookies>milk>fudge>cake>ice cream'\n",
    "print(mystring.split('>'))"
   ]
  },
  {
   "cell_type": "markdown",
   "metadata": {},
   "source": [
    "Question 05:\n",
    "Sum of Digits in a String\n",
    "Write a program that asks the user to enter a series of single-digit numbers \n",
    "with nothing separating them. The program should display the sum of all the single digit numbers in the string.\n",
    "\n",
    "For example, if the user enters 2514, the method should return 12, which is the sum of 2, 5, 1, and 4."
   ]
  },
  {
   "cell_type": "code",
   "execution_count": 16,
   "metadata": {},
   "outputs": [
    {
     "name": "stdout",
     "output_type": "stream",
     "text": [
      "sum: 12\n"
     ]
    }
   ],
   "source": [
    "number=2514\n",
    "sum=0\n",
    "while number>0:\n",
    "    digit=number%10\n",
    "    sum+=digit\n",
    "    number//=10\n",
    "print(f'sum: {sum}')"
   ]
  },
  {
   "cell_type": "markdown",
   "metadata": {},
   "source": [
    "What are the values of the following expressions? In each line, assume that\n",
    "\n",
    "x = 2.5\n",
    "\n",
    "y = -1.5\n",
    "\n",
    "m = 18\n",
    "\n",
    "n = 4\n",
    "\n",
    "x+n.y-(x+n).y\n",
    "\n",
    "m/n+m%n\n",
    "\n",
    "5.x-n/5\n",
    "\n",
    "1-(1-(1-(1-(1-n))))\n",
    "\n",
    "(n)**0.25"
   ]
  },
  {
   "cell_type": "code",
   "execution_count": null,
   "metadata": {},
   "outputs": [],
   "source": []
  },
  {
   "cell_type": "markdown",
   "metadata": {},
   "source": [
    "Question 07:\n",
    "For the given expressions, with the following string assignments:\n",
    "\n",
    "s = \"Hello\"\n",
    "t = \"World\"\n",
    "\n",
    "a. Determine the value of len(s) + len(t). \n",
    "\n",
    "output:10\n",
    "\n",
    "b. Calculate the value of s[1] + s[2].\n",
    "\n",
    " output : 'er'\n",
    "\n",
    "c. Find the character at the index len(s) // 2 in the string s.\n",
    "\n",
    " output:2\n",
    "\n",
    "d. Concatenate the strings s and t.\n",
    "\n",
    " output:'HelloWorld'\n",
    "\n",
    "e. Concatenate the strings t and s. \n",
    "\n",
    "output:'WorldHello'\n",
    "\n",
    "f. Evaluate the result of s * 2. \n",
    "\n",
    "output:'HelloHello'\n",
    "\n",
    "Note: Each part of the question will provide specific results based on the provided values of s and t."
   ]
  },
  {
   "cell_type": "markdown",
   "metadata": {},
   "source": [
    "Question 08:\n",
    "Write a program that reads a number and displays the square, cube, and fourth power of the number.\n",
    "Use the ** operator only for calculating the fourth power.\n",
    "\n",
    "Test Case:\n",
    "For input number 2:\n",
    "\n",
    "Square: 2^2 = 4\n",
    "\n",
    "Cube: 2^3 = 8\n",
    "\n",
    "Fourth Power: 2^4 = 16"
   ]
  },
  {
   "cell_type": "code",
   "execution_count": 6,
   "metadata": {},
   "outputs": [
    {
     "name": "stdout",
     "output_type": "stream",
     "text": [
      "square : 4\n",
      "cube : 8\n",
      "forth_power : 16\n"
     ]
    }
   ],
   "source": [
    "def power_of_numbe(number):\n",
    "    return {\n",
    "        'square': number*2,\n",
    "        'cube': number**3,\n",
    "        'forth_power': number**4\n",
    "    }\n",
    "number=int(input('enter the number:'))\n",
    "result=power_of_numbe(number)\n",
    "for operation,value in result.items():\n",
    "    print(f'{operation} : {value}')"
   ]
  },
  {
   "cell_type": "markdown",
   "metadata": {},
   "source": [
    "Question 09:\n",
    "Write a program that prompts the user for a radius and then prints:\n",
    "The area and circumference of a circle with that radius.\n",
    "The volume and surface area of a sphere with that radius.\n",
    "\n",
    "Area of a Circle: \n",
    "\n",
    "Circumference of a Circle:\n",
    "\n",
    "Volume of a Sphere:\n",
    "\n",
    "Surface Area of a Sphere:  \n",
    "\n",
    "Where:\n",
    "r is the radius of the circle or sphere.\n",
    "π(pi) is a constant approximately equal to 3.14159."
   ]
  },
  {
   "cell_type": "code",
   "execution_count": 7,
   "metadata": {},
   "outputs": [
    {
     "name": "stdout",
     "output_type": "stream",
     "text": [
      "{'area_of_a_circle': 12.566370614359172, 'circumfence_of_circle': 6.283185307179586, 'volume_of_sphere': 33.510321638291124, 'surface_area_of_sphere': 50.26548245743669}\n"
     ]
    }
   ],
   "source": [
    "import math\n",
    "def circle_sphere(r):\n",
    "    return {\n",
    "        'area_of_a_circle':math.pi*(r*2),\n",
    "        'circumfence_of_circle':math.pi*(r),\n",
    "        'volume_of_sphere':(4/3)*math.pi*(r**3),\n",
    "        'surface_area_of_sphere':4*math.pi*(r**2)\n",
    "    }\n",
    "r=int(input('enter the radius:'))\n",
    "print(circle_sphere(r))\n",
    "\n"
   ]
  },
  {
   "cell_type": "markdown",
   "metadata": {},
   "source": [
    "Question 10:\n",
    "Write a program that prompts the user to input the lengths of the sides of a rectangle, and then perform the following\n",
    "calculations:\n",
    "\n",
    "Calculate and display the area and perimeter of the rectangle.\n",
    "\n",
    "Calculate and display the length of the diagonal of the rectangle."
   ]
  },
  {
   "cell_type": "code",
   "execution_count": 11,
   "metadata": {},
   "outputs": [
    {
     "name": "stdout",
     "output_type": "stream",
     "text": [
      "Area:20\n",
      "perimeter:18\n",
      "Diagonal:6.4031242374328485\n"
     ]
    }
   ],
   "source": [
    "import math\n",
    "def triangle(length,width):\n",
    "    return {\n",
    "        'Area': length*width,\n",
    "        'perimeter': 2*(length+width),\n",
    "        'Diagonal': math.sqrt((length)**2+(width)**2)\n",
    "    }\n",
    "length=int(input('enter the length of triangle:'))\n",
    "width=int(input('enter the width of triangle:'))\n",
    "result=triangle(length,width)\n",
    "for key,value in result.items():\n",
    "    print(f'{key}:{value}')"
   ]
  },
  {
   "cell_type": "markdown",
   "metadata": {},
   "source": [
    "Question 11:\n",
    "Write a program that reads a number between 10,000 and 999,999 from the user, where the user enters a comma in the \n",
    "input. Then, print the number without a comma.\n",
    "\n",
    "Input: Please enter an integer between 10,000 and 999,999: 23,456\n",
    "\n",
    "Output: 23456"
   ]
  },
  {
   "cell_type": "code",
   "execution_count": 38,
   "metadata": {},
   "outputs": [
    {
     "name": "stdout",
     "output_type": "stream",
     "text": [
      "23456\n"
     ]
    }
   ],
   "source": [
    "def remove_comma(number):\n",
    "    return number.replace(\",\",\"\")\n",
    "number=input('Enter integer number betwen 10,000 and 999,999:')\n",
    "result=(remove_comma(number))\n",
    "print(int(result))"
   ]
  },
  {
   "cell_type": "markdown",
   "metadata": {},
   "source": [
    "Question 12:\n",
    "Write a program that reads a number between 1,000 and 999,999 from the user and prints it with a comma separating the thousands.\n",
    "\n",
    "\n",
    "Input: Please enter an integer between 1000 and 999999: 23456\n",
    "\n",
    "Output: 23,456(The built-in format function (or f-string formatting) in Python automatically adds commas to numbers for \n",
    "better readability.\n",
    "\n",
    " For example, f\"{number:,}\" formats a number with commas as thousands separators. \n",
    "It's simple and efficient for presenting large numbers in a readable format.)"
   ]
  },
  {
   "cell_type": "code",
   "execution_count": 39,
   "metadata": {},
   "outputs": [
    {
     "name": "stdout",
     "output_type": "stream",
     "text": [
      "23,456\n"
     ]
    }
   ],
   "source": [
    "def add_comma(user_input):\n",
    "    number=int(user_input)\n",
    "    formate_number=f\"{number:,}\"\n",
    "    return formate_number\n",
    "user_input=input('Enter integer number betwen 10000 and 999999:')\n",
    "print(add_comma(user_input))"
   ]
  },
  {
   "cell_type": "markdown",
   "metadata": {},
   "source": [
    "Question 13:\n",
    "Write a program that reads a five-digit positive integer and breaks it into a sequence of individual digits.\n",
    "\n",
    "Input: 16384\n",
    "\n",
    "Output : 1 6 3 8 4"
   ]
  },
  {
   "cell_type": "code",
   "execution_count": 35,
   "metadata": {},
   "outputs": [
    {
     "name": "stdout",
     "output_type": "stream",
     "text": [
      "1 6 3 8 4\n",
      "<class 'list'>\n"
     ]
    }
   ],
   "source": [
    "number=16384\n",
    "digit=[d for d in str(number)]# ['1','6','3','8','4']\n",
    "print(\" \".join(digit))\n",
    "print(type(digit))"
   ]
  },
  {
   "cell_type": "markdown",
   "metadata": {},
   "source": [
    "Question 14:\n",
    "Write a program that initializes a string variable and prints the first three characters,followed by three periods, \n",
    "and then the last three characters.\n",
    "Input: Ehtisham\n",
    "Output: Eht...ham"
   ]
  },
  {
   "cell_type": "code",
   "execution_count": 22,
   "metadata": {},
   "outputs": [
    {
     "name": "stdout",
     "output_type": "stream",
     "text": [
      "eht...ham\n"
     ]
    }
   ],
   "source": [
    "def name_sequence(name):\n",
    "    first=name[:3]\n",
    "    last=name[-3:]\n",
    "    full_name=first+\"...\"+last\n",
    "    return full_name\n",
    "name=input(\"enter the name:\")\n",
    "print(name_sequence(name))"
   ]
  },
  {
   "cell_type": "markdown",
   "metadata": {},
   "source": [
    "Question 15:\n",
    "Write a program that calculates the total amount of a meal purchased at a restaurant. The program should ask the user \n",
    "to enter the charge for the food, and then calculate the amount of a 15 percent tip and 7 percent sales tax. Display \n",
    "each of these amounts and the total (sum of all three mentioned above).\n",
    "\n",
    "Test Case:\n",
    " Imagine a user enters a charge for the food as $50.\n",
    "\n",
    ". The program should then calculate a 15% tip ($7.50) \n",
    "\n",
    ". 7% sales tax ($3.50). \n",
    "\n",
    ".The total amount would be $50 +$7.50+$3.50\n",
    "=$61.00"
   ]
  },
  {
   "cell_type": "code",
   "execution_count": 37,
   "metadata": {},
   "outputs": [
    {
     "name": "stdout",
     "output_type": "stream",
     "text": [
      "tip_amount:$7.5\n",
      "sales_tax:$3.5000000000000004\n",
      "total_amount:$61.0\n"
     ]
    }
   ],
   "source": [
    "food_charges=int(input(\"enter the food charges:$\"))\n",
    "tip_amount=food_charges*0.15\n",
    "sales_tax=food_charges*0.07\n",
    "total_amount=(food_charges)+(tip_amount)+(sales_tax)\n",
    "print(f\"tip_amount:${tip_amount}\")\n",
    "print(f\"sales_tax:${sales_tax}\")\n",
    "print(f\"total_amount:${total_amount}\")"
   ]
  }
 ],
 "metadata": {
  "kernelspec": {
   "display_name": "Python 3",
   "language": "python",
   "name": "python3"
  },
  "language_info": {
   "codemirror_mode": {
    "name": "ipython",
    "version": 3
   },
   "file_extension": ".py",
   "mimetype": "text/x-python",
   "name": "python",
   "nbconvert_exporter": "python",
   "pygments_lexer": "ipython3",
   "version": "3.8.8"
  }
 },
 "nbformat": 4,
 "nbformat_minor": 2
}
